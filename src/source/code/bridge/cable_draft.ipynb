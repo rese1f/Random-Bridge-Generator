{
 "cells": [
  {
   "cell_type": "code",
   "execution_count": 1,
   "metadata": {},
   "outputs": [],
   "source": [
    "import numpy as np\n",
    "from scipy.spatial.transform import Rotation as R\n",
    "from scipy.spatial.transform import Slerp\n",
    "import matplotlib.pyplot as plt\n",
    "from sympy import *\n"
   ]
  },
  {
   "cell_type": "code",
   "execution_count": 9,
   "metadata": {},
   "outputs": [
    {
     "name": "stdout",
     "output_type": "stream",
     "text": [
      "[0 1 2 3]\n"
     ]
    }
   ],
   "source": [
    "a = np.array([0])\n",
    "b = np.array([(i+1) for i in range(3)])\n",
    "c = np.concatenate((a,b), 0)\n",
    "print(c)"
   ]
  },
  {
   "cell_type": "code",
   "execution_count": 13,
   "metadata": {},
   "outputs": [
    {
     "name": "stdout",
     "output_type": "stream",
     "text": [
      "[1.         1.11111111 1.22222222 1.33333333 1.44444444 1.55555556\n",
      " 1.66666667 1.77777778 1.88888889 2.        ]\n"
     ]
    }
   ],
   "source": [
    "d = np.linspace(1,2,10)\n",
    "print(d)"
   ]
  },
  {
   "cell_type": "code",
   "execution_count": 15,
   "metadata": {},
   "outputs": [
    {
     "name": "stdout",
     "output_type": "stream",
     "text": [
      "[0, 'a']\n",
      "[1, 'b']\n",
      "[2, 'c']\n"
     ]
    }
   ],
   "source": [
    "a = ['a', 'b', 'c']\n",
    "b = enumerate(a)\n",
    "for i, j in b:\n",
    "    print([i,j])"
   ]
  },
  {
   "cell_type": "code",
   "execution_count": 19,
   "metadata": {},
   "outputs": [
    {
     "data": {
      "text/plain": [
       "5"
      ]
     },
     "execution_count": 19,
     "metadata": {},
     "output_type": "execute_result"
    }
   ],
   "source": [
    "int(5/1)"
   ]
  },
  {
   "cell_type": "code",
   "execution_count": 18,
   "metadata": {},
   "outputs": [
    {
     "data": {
      "text/plain": [
       "array([0., 0.])"
      ]
     },
     "execution_count": 18,
     "metadata": {},
     "output_type": "execute_result"
    }
   ],
   "source": [
    "np.zeros(2)"
   ]
  },
  {
   "cell_type": "code",
   "execution_count": 43,
   "metadata": {},
   "outputs": [
    {
     "name": "stdout",
     "output_type": "stream",
     "text": [
      "[[ 9.2 -1.   0. ]\n",
      " [ 9.3 -1.   0. ]\n",
      " [ 9.4 -1.   0. ]\n",
      " [ 9.5 -1.   0. ]\n",
      " [ 9.6 -1.   0. ]\n",
      " [ 9.7 -1.   0. ]\n",
      " [ 9.8 -1.   0. ]\n",
      " [ 9.9 -1.   0. ]\n",
      " [10.1 -1.   0. ]\n",
      " [10.2 -1.   0. ]\n",
      " [10.3 -1.   0. ]\n",
      " [10.4 -1.   0. ]\n",
      " [10.5 -1.   0. ]\n",
      " [10.6 -1.   0. ]\n",
      " [10.7 -1.   0. ]\n",
      " [10.8 -1.   0. ]\n",
      " [19.2 -1.   0. ]\n",
      " [19.3 -1.   0. ]\n",
      " [19.4 -1.   0. ]\n",
      " [19.5 -1.   0. ]\n",
      " [19.6 -1.   0. ]\n",
      " [19.7 -1.   0. ]\n",
      " [19.8 -1.   0. ]\n",
      " [19.9 -1.   0. ]\n",
      " [20.1 -1.   0. ]\n",
      " [20.2 -1.   0. ]\n",
      " [20.3 -1.   0. ]\n",
      " [20.4 -1.   0. ]\n",
      " [20.5 -1.   0. ]\n",
      " [20.6 -1.   0. ]\n",
      " [20.7 -1.   0. ]\n",
      " [20.8 -1.   0. ]\n",
      " [29.2 -1.   0. ]\n",
      " [29.3 -1.   0. ]\n",
      " [29.4 -1.   0. ]\n",
      " [29.5 -1.   0. ]\n",
      " [29.6 -1.   0. ]\n",
      " [29.7 -1.   0. ]\n",
      " [29.8 -1.   0. ]\n",
      " [29.9 -1.   0. ]\n",
      " [30.1 -1.   0. ]\n",
      " [30.2 -1.   0. ]\n",
      " [30.3 -1.   0. ]\n",
      " [30.4 -1.   0. ]\n",
      " [30.5 -1.   0. ]\n",
      " [30.6 -1.   0. ]\n",
      " [30.7 -1.   0. ]\n",
      " [30.8 -1.   0. ]\n",
      " [39.2 -1.   0. ]\n",
      " [39.3 -1.   0. ]\n",
      " [39.4 -1.   0. ]\n",
      " [39.5 -1.   0. ]\n",
      " [39.6 -1.   0. ]\n",
      " [39.7 -1.   0. ]\n",
      " [39.8 -1.   0. ]\n",
      " [39.9 -1.   0. ]\n",
      " [40.1 -1.   0. ]\n",
      " [40.2 -1.   0. ]\n",
      " [40.3 -1.   0. ]\n",
      " [40.4 -1.   0. ]\n",
      " [40.5 -1.   0. ]\n",
      " [40.6 -1.   0. ]\n",
      " [40.7 -1.   0. ]\n",
      " [40.8 -1.   0. ]\n",
      " [ 9.2  1.   0. ]\n",
      " [ 9.3  1.   0. ]\n",
      " [ 9.4  1.   0. ]\n",
      " [ 9.5  1.   0. ]\n",
      " [ 9.6  1.   0. ]\n",
      " [ 9.7  1.   0. ]\n",
      " [ 9.8  1.   0. ]\n",
      " [ 9.9  1.   0. ]\n",
      " [10.1  1.   0. ]\n",
      " [10.2  1.   0. ]\n",
      " [10.3  1.   0. ]\n",
      " [10.4  1.   0. ]\n",
      " [10.5  1.   0. ]\n",
      " [10.6  1.   0. ]\n",
      " [10.7  1.   0. ]\n",
      " [10.8  1.   0. ]\n",
      " [19.2  1.   0. ]\n",
      " [19.3  1.   0. ]\n",
      " [19.4  1.   0. ]\n",
      " [19.5  1.   0. ]\n",
      " [19.6  1.   0. ]\n",
      " [19.7  1.   0. ]\n",
      " [19.8  1.   0. ]\n",
      " [19.9  1.   0. ]\n",
      " [20.1  1.   0. ]\n",
      " [20.2  1.   0. ]\n",
      " [20.3  1.   0. ]\n",
      " [20.4  1.   0. ]\n",
      " [20.5  1.   0. ]\n",
      " [20.6  1.   0. ]\n",
      " [20.7  1.   0. ]\n",
      " [20.8  1.   0. ]\n",
      " [29.2  1.   0. ]\n",
      " [29.3  1.   0. ]\n",
      " [29.4  1.   0. ]\n",
      " [29.5  1.   0. ]\n",
      " [29.6  1.   0. ]\n",
      " [29.7  1.   0. ]\n",
      " [29.8  1.   0. ]\n",
      " [29.9  1.   0. ]\n",
      " [30.1  1.   0. ]\n",
      " [30.2  1.   0. ]\n",
      " [30.3  1.   0. ]\n",
      " [30.4  1.   0. ]\n",
      " [30.5  1.   0. ]\n",
      " [30.6  1.   0. ]\n",
      " [30.7  1.   0. ]\n",
      " [30.8  1.   0. ]\n",
      " [39.2  1.   0. ]\n",
      " [39.3  1.   0. ]\n",
      " [39.4  1.   0. ]\n",
      " [39.5  1.   0. ]\n",
      " [39.6  1.   0. ]\n",
      " [39.7  1.   0. ]\n",
      " [39.8  1.   0. ]\n",
      " [39.9  1.   0. ]\n",
      " [40.1  1.   0. ]\n",
      " [40.2  1.   0. ]\n",
      " [40.3  1.   0. ]\n",
      " [40.4  1.   0. ]\n",
      " [40.5  1.   0. ]\n",
      " [40.6  1.   0. ]\n",
      " [40.7  1.   0. ]\n",
      " [40.8  1.   0. ]]\n"
     ]
    }
   ],
   "source": [
    "num_cable = 8\n",
    "n = 4\n",
    "D = np.array([10, 20, 30, 40])\n",
    "x_cable_bottom = np.zeros([n, num_cable*2]) ## one row represents x coordinate of all cable for one column\n",
    "loc = np.hstack((np.linspace(-num_cable, -1, num_cable), np.linspace(1, num_cable, num_cable)))  ## help to locate x coordinate\n",
    "for i in range(n):\n",
    "    x_cable_bottom[i, :] = D[i] + 0.1 * loc\n",
    "x_cable_bottom = x_cable_bottom.reshape([-1, 1])\n",
    "z_cable_bottom = 0\n",
    "y_cable_bottom = 1\n",
    "cable_bottom_right = np.hstack((x_cable_bottom, x_cable_bottom*0+y_cable_bottom, x_cable_bottom*0+z_cable_bottom))\n",
    "cable_bottom_left = cable_bottom_right * np.array([[1,-1,1]])\n",
    "cable_bottom = np.concatenate([cable_bottom_left, cable_bottom_right], 0)\n",
    "print((cable_bottom))"
   ]
  },
  {
   "cell_type": "code",
   "execution_count": 37,
   "metadata": {},
   "outputs": [
    {
     "name": "stdout",
     "output_type": "stream",
     "text": [
      "[[10. 10. 10. 10. 10. 10. 10. 10. 10. 10.]\n",
      " [20. 20. 20. 20. 20. 20. 20. 20. 20. 20.]\n",
      " [30. 30. 30. 30. 30. 30. 30. 30. 30. 30.]\n",
      " [40. 40. 40. 40. 40. 40. 40. 40. 40. 40.]]\n"
     ]
    }
   ],
   "source": [
    "D = np.array([10, 20, 30, 40])\n",
    "x_cable_top = np.ones([4, 10]) * D.reshape([4,1])\n",
    "print(x_cable_top)"
   ]
  },
  {
   "cell_type": "code",
   "execution_count": 38,
   "metadata": {},
   "outputs": [
    {
     "data": {
      "text/plain": [
       "array([8., 7., 6., 5., 4., 3., 2., 1.])"
      ]
     },
     "execution_count": 38,
     "metadata": {},
     "output_type": "execute_result"
    }
   ],
   "source": [
    "np.linspace(8,1,8)"
   ]
  },
  {
   "cell_type": "code",
   "execution_count": 41,
   "metadata": {},
   "outputs": [
    {
     "name": "stdout",
     "output_type": "stream",
     "text": [
      "[[21. 19. 17. 15. 13. 11.  9.  7.  7.  9. 11. 13. 15. 17. 19. 21.]\n",
      " [21. 19. 17. 15. 13. 11.  9.  7.  7.  9. 11. 13. 15. 17. 19. 21.]\n",
      " [21. 19. 17. 15. 13. 11.  9.  7.  7.  9. 11. 13. 15. 17. 19. 21.]\n",
      " [21. 19. 17. 15. 13. 11.  9.  7.  7.  9. 11. 13. 15. 17. 19. 21.]]\n"
     ]
    }
   ],
   "source": [
    "n = 4\n",
    "num_cable = 8\n",
    "z_cable_top = np.zeros([n, num_cable*2]) \n",
    "loc = np.hstack((np.linspace(num_cable, 1, num_cable), np.linspace(1, num_cable, num_cable)))\n",
    "for i in range(n):\n",
    "    z_cable_top[i, :] = 5 + 2 * loc\n",
    "print(z_cable_top)"
   ]
  },
  {
   "cell_type": "code",
   "execution_count": 51,
   "metadata": {},
   "outputs": [
    {
     "name": "stdout",
     "output_type": "stream",
     "text": [
      "[[2 3 4 4 5 6]]\n"
     ]
    }
   ],
   "source": [
    "a = np.array([\n",
    "    [1,2,3],\n",
    "    [3,4,5]\n",
    "])\n",
    "\n",
    "b = a.reshape([1,-1])\n",
    "print(b+1)"
   ]
  },
  {
   "cell_type": "code",
   "execution_count": 48,
   "metadata": {},
   "outputs": [
    {
     "ename": "SyntaxError",
     "evalue": "cannot assign to operator (<ipython-input-48-c378cab9f24e>, line 2)",
     "output_type": "error",
     "traceback": [
      "\u001b[1;36m  File \u001b[1;32m\"<ipython-input-48-c378cab9f24e>\"\u001b[1;36m, line \u001b[1;32m2\u001b[0m\n\u001b[1;33m    'x'+str(i) =1\u001b[0m\n\u001b[1;37m    ^\u001b[0m\n\u001b[1;31mSyntaxError\u001b[0m\u001b[1;31m:\u001b[0m cannot assign to operator\n"
     ]
    }
   ],
   "source": [
    "    "
   ]
  },
  {
   "cell_type": "code",
   "execution_count": null,
   "metadata": {},
   "outputs": [],
   "source": []
  }
 ],
 "metadata": {
  "interpreter": {
   "hash": "b09ec625f77bf4fd762565a912b97636504ad6ec901eb2d0f4cf5a7de23e1ee5"
  },
  "kernelspec": {
   "display_name": "Python 3.8.8 ('base')",
   "language": "python",
   "name": "python3"
  },
  "language_info": {
   "codemirror_mode": {
    "name": "ipython",
    "version": 3
   },
   "file_extension": ".py",
   "mimetype": "text/x-python",
   "name": "python",
   "nbconvert_exporter": "python",
   "pygments_lexer": "ipython3",
   "version": "3.8.8"
  },
  "orig_nbformat": 4
 },
 "nbformat": 4,
 "nbformat_minor": 2
}
