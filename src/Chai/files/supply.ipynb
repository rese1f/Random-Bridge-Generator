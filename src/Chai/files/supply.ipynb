{
 "cells": [
  {
   "cell_type": "code",
   "execution_count": 1,
   "metadata": {},
   "outputs": [],
   "source": [
    "import matplotlib.pyplot as plt\n",
    "import pandas as pd\n",
    "import numpy as np"
   ]
  },
  {
   "cell_type": "code",
   "execution_count": null,
   "metadata": {},
   "outputs": [],
   "source": [
    "def read_log_txt(log_text_file):   \n",
    "    iou_data = np.array(pd.read_table(log_text_file, \n",
    "                                      delimiter=',',\n",
    "                                      header=None))\n",
    "    iou_per_class = iou_data[:,:-1]\n",
    "    miou = iou_data[:,-1]\n",
    "    return iou_per_class, miou\n",
    "\n",
    "def plot_per_class(log_text_file):\n",
    "    iou_per_class, _ = read_log_txt(log_text_file)\n",
    "    class_n = iou_per_class.shape[1]\n",
    "    for i in range(class_n):\n",
    "        plt.plot(iou_per_class[:,i], label=str(i+1))\n",
    "    plt.ylim(0,1)\n",
    "    plt.legend()\n",
    "    plt.grid()\n",
    "    plt.xlabel('epoch')\n",
    "    plt.ylabel('iou')\n",
    "    plt.title(log_text_file)\n",
    "    plt.show()\n",
    "\n",
    "def plot_per_arch(log_text_file_list):\n",
    "    for log_text_file in log_text_file_list:\n",
    "        try:\n",
    "            miou = read_log_txt(log_text_file)[1]\n",
    "            plt.plot(miou, label=log_text_file)\n",
    "        except:\n",
    "            continue\n",
    "    plt.ylim(0,1)\n",
    "    plt.legend()\n",
    "    plt.grid()\n",
    "    plt.xlabel('epoch')\n",
    "    plt.ylabel('iou')\n",
    "    plt.show()\n",
    "    "
   ]
  },
  {
   "cell_type": "code",
   "execution_count": null,
   "metadata": {},
   "outputs": [],
   "source": [
    "log_text_file_list=['./cmplog/Unetresnet18.txt',\n",
    "                    './cmplog/Unetresnet50.txt',\n",
    "                    './cmplog/Unetresnet101.txt',\n",
    "                    './cmplog/FPNresnet18.txt',\n",
    "                    './cmplog/FPNresnet50.txt',\n",
    "                    './cmplog/FPNresnet101.txt',]"
   ]
  },
  {
   "cell_type": "code",
   "execution_count": null,
   "metadata": {},
   "outputs": [],
   "source": [
    "plot_per_arch(log_text_file_list)"
   ]
  },
  {
   "cell_type": "code",
   "execution_count": null,
   "metadata": {},
   "outputs": [],
   "source": [
    "for log_text_file in log_text_file_list:\n",
    "    try:\n",
    "        plot_per_class(log_text_file)\n",
    "    except:\n",
    "        continue"
   ]
  },
  {
   "cell_type": "code",
   "execution_count": 18,
   "metadata": {},
   "outputs": [
    {
     "data": {
      "image/png": "[encoded data removed]",
      "text/plain": [
       "<Figure size 432x288 with 1 Axes>"
      ]
     },
     "metadata": {
      "needs_background": "light"
     },
     "output_type": "display_data"
    }
   ],
   "source": [
    "acc = np.array([10.4,20.6,45.3,71.4])\n",
    "threshold = np.array([1,2,5,10])\n",
    "plt.plot(threshold, acc, 'm.-.', linewidth=1)\n",
    "plt.xlim(0)\n",
    "plt.ylim(0,100)\n",
    "plt.xlabel('threshold [%]')\n",
    "plt.ylabel('accuracy [%]')\n",
    "plt.savefig('../img/depth_result.png',dpi=200)"
   ]
  },
  {
   "cell_type": "code",
   "execution_count": null,
   "metadata": {},
   "outputs": [],
   "source": []
  }
 ],
 "metadata": {
  "interpreter": {
   "hash": "c2b081c860408cc3364618493a1a50c6612860c744eef7819bde8f92d071a1ec"
  },
  "kernelspec": {
   "display_name": "Python 3.8.10 ('py38')",
   "language": "python",
   "name": "python3"
  },
  "language_info": {
   "codemirror_mode": {
    "name": "ipython",
    "version": 3
   },
   "file_extension": ".py",
   "mimetype": "text/x-python",
   "name": "python",
   "nbconvert_exporter": "python",
   "pygments_lexer": "ipython3",
   "version": "3.8.10"
  },
  "orig_nbformat": 4
 },
 "nbformat": 4,
 "nbformat_minor": 2
}
